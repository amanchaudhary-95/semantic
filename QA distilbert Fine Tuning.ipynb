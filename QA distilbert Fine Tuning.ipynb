{
 "cells": [
  {
   "cell_type": "code",
   "execution_count": 1,
   "metadata": {},
   "outputs": [
    {
     "data": {
      "text/plain": [
       "{'_id': 1,\n",
       " 'title': 'PDFBOX-1024-2.pdf',\n",
       " 'path': './Final PDF\\\\PDFBOX-1024-2.pdf',\n",
       " 'pages': 5,\n",
       " 'content': 'Adobe Systems incorporated maintains royalty free, cross-platform documents. the content of this guide is furnished for informational use only. no part of the guide may be reproduced, stored in a retrieval system, or transmitted. no reference to companies or company logos in sample material is intended to refer to any actual organizations. do you want to know why i changed my copyright? click here. an alternative version is available. a total of 26 pages for free download at www.ebook.com ',\n",
       " 'raw_content': 'AAT Adobe:PDF Adobe Batch Sequences Adobe Acrobat SDK Version 8.0 \\n02 2006 Adobe Systems Incorporated. All rights reserved. Adobe Acrobate SDK 8.0 Batch Sequences for Microsoft Windows and Mac OS° Edition 1.0, October 2006 Ifthis guide is distributed with software that includes an end user agreement, this guide, as well as the software described in it, is furnished under license and may be used or copied only in accordance with the terms of such license. Except as permitted by any such license, no part ofthis guide may be reproduced, stored in a retrieval system, or transmitted, in any form or by any means, electronic, mechanical, recording, or otherwise, without the prior written permission of Adobe Systems Incorporated. Please note that the content in this guide is protected under copyright law even ifi it is not distributed with software that includes an end user license agreement. The content of this guide is furnished for informational use only, is subject to change without notice, and should not be construed as a commitment by Adobe Systems Incorporated. Adobe Systems Incorporated assumes no responsibility or liability for any errors or inaccuracies that may appear in the informational content contained in this guide. Please remember that existing artwork or images that you may want to include in your project mayl be protected under copyright law. The unauthorized incorporation of such material into your new work could be a violation of the rights of the copyright owner. Please be sure to obtain any permission required from the copyright owner. Any references to company names and company logos in sample material are for demonstration purposes only and are not intended to refer to any actual organization. Adobe, the Adobe logo, Acrobat, and Reader are either registered trademarks or trademarks of Adobe Systems Incorporated in the United States and/or other countries. Apple and Mac OS are trademarks of Apple Computer, Inc., registered in the United States and other countries. JavaScript is a trademark or registered trademark of Sun Microsystems, Inc. in the United States and other countries. Microsoft and Windows are either registered trademarks or trademarks of Microsoft Corporation in the United States and/or other countries. All other trademarks are the property of their respective owners. Adobe Systems Incorporated, 345 Park Avenue, San Jose, California 95110, USA. Notice to U.S. Government End Users. The Software and Documentation are \"Commercial Items,\" as that term is defined at 48 C.F.R.52.101, consisting of \"Commercial Computer Software\" and \"Commercial Computer Software Documentation,\" as such terms are used in 48 C.F.R. $12.212 or 48 C.F.R. $227.7202, as applicable. Consistent with 48 C.F.R. $12.212 or 48 C.F.R. 59227.7202-1 through 227.7202-4, as applicable, the Commercial Computer Software and Commercial Computer Software Documentation are being licensed to U.S. Government end users (a) only as Commercial Items and (b) with only those rights as are granted to all other end users pursuant to the terms and conditions herein. Unpublished-rights reserved under the copyright laws ofthe United States. Adobe Systems Incorporated, 345 Park Avenue, San Jose, CA 95110-2704, USA. For U.S. Government End Users, Adobe agrees to comply with all applicable equal opportunity laws including, if appropriate, the provisions of Executive Order 11246, as amended, Section 402 of the Vietnam Era Veterans Readjustment Assistance Act of 1974 (38 USC 4212), and Section 503 of the Rehabilitation Act of 1973, as amended, and the regulations at 41 CFR Parts 60-1 through 60-60, 60-250, and 60-741. The affirmative action clause and regulations contained in the preceding sentence shall be incorporated by reference. \\nContents List of Examples 4 Preface 5 What\\'s in this guide? 5 Who should read this guide? 5 Related documentation 5 1 Using Batch Sequences 6 Creating and running a batch sequence 6 Batch processing objects. 8 Aborting a script. 8 Using the this object. 8 Global variables. 9 Beginning and ending a batch job 9 Debugging and testing tips 10 2 Batch Sequence Examples 11 Installing the sample batch sequences 11 Count PDF files 12 Working with bookmarks 12 Gather bookmarks to an array. 12 List all bookmarks 13 Count bookmarks 15 Gather bookmarks to a document. 15 Copy bookmarks from an array. 16 Insert bookmarked pages 18 Working with icons 19 Import named icons 19 Insert navigation icons. 20 Extract pages to a folder 22 Populate a form from a database and save it.. 22 Preparing to use FormsBatch.pdf 22 Filling in FormsBatch.pdf 23 Running Populate and Save 23 Working with security 24 Change security to no security.. 24 Gather digital signature information 25 Sign all documents 25 Inserting comments and form fields 26 Insert a stamp 26 Insert a barcode 27 Spell check a document. 28 Summarize comments from selected files 28 Write comments to a tab-delimited file 31 3 \\nList of Examples Example 1.1 Specify the number of files to process. 9 Example 2.1 Count PDF files 12 Example 2.2 Gather bookmarks to an array 13 Example 2.3 List all bookmarks 14 Example 2.4 Count bookmarks : 15 Example 2.5 Gather bookmarks to a document 15 Example 2.6 Copy bookmarks from array. 17 Example 2.7 Insert pages with bookmarks 18 Example 2.8 Import named icons 19 Example 2.9 Insert navigation icons.. 20 Example 2.10 Insert navigation icons.. 22 Example 2.11 Populate and save a form 24 Example 2.12 Sign all documents. 25 Example 2.13 Insert Stamp. 26 Example 2.14 Insert a barcode. 27 Example 2.15 Spell check a document 28 Example 2.16 Summarize comments from selected documents 29 Example 2.17 Write comments to a tab delimited file. 31 al a 1r 4 \\nPreface This document shows how to use JavaScript\\' IM to do batch processing in Adobe Acrobato 5.0 and Acrobat Professional 6.0 or later, and offers sample solutions to some of the common tasks users encounter. What\\'s in this guide? This guide discusses the fundamentals of writing al batch sequence that uses the Execute JavaScript batch command. The event object, the use of global variables, debugging and testing tips are discussed. There is also a chapter of batch sequence examples. Who should read this guide? This guide would be of interest to anyone who needs to automate repetitive tasks. It requires a knowledge of the Acrobat extensions to JavaScript, as documented in the JavaScript for Acrobat APII Reference. Related documentation This document refers to the following sources for additional information about JavaScript and related technologies. The Acrobat documentation is available through the Acrobat Family Developer Center, htt://www.adobe.cobbe.comggo/acroaat. developer. For information about See A guide to the documentation in the Acrobat SDK. Acrobat SDK Documentation Roadmap Known issues and implementation details. Readme Answers to frequently asked questions about the Developer FAQ Acrobat SDK. New features in this Acrobat SDK release. What\\'s New A general overview of the Acrobat SDK. Overview Using JavaScript to develop and enhance standard Developing Acrobat Applications Using JavaScript workflows in Acrobat and Adobe Readero. Detailed descriptions of JavaScript APIs for JavaScript for Acrobat API Reference developing and enhancing workflows in Acrobat and Adobe Reader. 5 \\n',\n",
       " 'clean_content': \"aat adobe : pdf adobe batch sequences adobe acrobat sdk version 8.0 02 2006 adobe system incorporate . right reserve . adobe acrobate sdk 8.0 batch sequence microsoft windows mac os ° edition 1.0 , october 2006 ifthis guide distribute software include end user agreement , guide , well software describe , furnish license may use copy accordance term license . except permit license , part ofthis guide may reproduce , store retrieval system , transmit , form mean , electronic , mechanical , recording , otherwise , without prior write permission adobe system incorporate . please note content guide protect copyright law even ifi distribute software include end user license agreement . content guide furnish informational use , subject change without notice , construe commitment adobe system incorporate . adobe system incorporate assume responsibility liability error inaccuracy may appear informational content contain guide . please remember exist artwork image may want include project mayl protect copyright law . unauthorized incorporation material new work could violation right copyright owner . please sure obtain permission require copyright owner . reference company name company logo sample material demonstration purpose intended refer actual organization . adobe , adobe logo , acrobat , reader either register trademark trademark adobe system incorporate united states and/or country . apple mac os trademarks apple computer , inc . , register united states country . javascript trademark register trademark sun microsystem , inc . united states country . microsoft windows either register trademark trademark microsoft corporation united states and/or country . trademark property respective owner . adobe system incorporate , 345 park avenue , san jose , california 95110 , usa . notice u.s . government end user . software documentation ` ` commercial item , '' term define 48 c.f.r.52.101 , consist ` ` commercial computer software '' ` ` commercial computer software documentation , '' term use 48 c.f.r . $ 12.212 48 c.f.r . $ 227.7202 , applicable . consistent 48 c.f.r . $ 12.212 48 c.f.r . 59227.7202 - 1 227.7202 - 4 , applicable , commercial computer software commercial computer software documentation license u.s . government end user ( ) commercial item ( b ) right grant end user pursuant term condition herein . unpublished - right reserve copyright law ofthe united states . adobe system incorporate , 345 park avenue , san jose , can 95110 - 2704 , usa . u.s . government end user , adobe agree comply applicable equal opportunity law include , appropriate , provision executive order 11246 , amend , section 402 vietnam era veterans readjustment assistance act 1974 ( 38 usc 4212 ) , section 503 rehabilitation act 1973 , amend , regulation 41 cfr part 60 - 1 60 - 60 , 60 - 250 , 60 - 741 . affirmative action clause regulation contain precede sentence shall incorporate reference . content list example 4 preface 5 's guide ? 5 read guide ? 5 relate documentation 5 1 use batch sequence 6 create run batch sequence 6 batch processing object . 8 aborting script . 8 use object . 8 global variable . 9 begin end batch job 9 debugging testing tip 10 2 batch sequence example 11 instal sample batch sequence 11 count pdf file 12 work bookmark 12 gather bookmark array . 12 list bookmark 13 count bookmark 15 gather bookmark document . 15 copy bookmark array . 16 insert bookmarke page 18 work icon 19 import name icon 19 insert navigation icon . 20 extract page folder 22 populate form database save .. 22 preparing use formsbatch.pdf 22 fill formsbatch.pdf 23 running populate save 23 work security 24 change security security .. 24 gather digital signature information 25 sign document 25 insert comment form field 26 insert stamp 26 insert barcode 27 spell check document . 28 summarize comment select file 28 write comment tab - delimit file 31 3 list example example 1.1 specify number file process . 9 example 2.1 count pdf file 12 example 2.2 gather bookmark array 13 example 2.3 list bookmark 14 example 2.4 count bookmark : 15 example 2.5 gather bookmark document 15 example 2.6 copy bookmark array . 17 example 2.7 insert page bookmark 18 example 2.8 import name icon 19 example 2.9 insert navigation icon .. 20 example 2.10 insert navigation icon .. 22 example 2.11 populate save form 24 example 2.12 sign document . 25 example 2.13 insert stamp . 26 example 2.14 insert barcode . 27 example 2.15 spell check document 28 example 2.16 summarize comment select document 29 example 2.17 write comment tab delimited file . 31 al 1r 4 preface document show use javascript ' I m batch process adobe acrobato 5.0 acrobat professional 6.0 later , offer sample solution common task user encounter . 's guide ? guide discuss fundamental write al batch sequence use execute javascript batch command . event object , use global variable , debug testing tip discuss . also chapter batch sequence example . read guide ? guide would interest anyone need automate repetitive task . require knowledge acrobat extension javascript , document javascript acrobat apii reference . relate documentation document refer follow source additional information javascript relate technology . acrobat documentation available acrobat family developer center , htt : //www.adobe.cobbe.comggo / acroaat . developer . information see guide documentation acrobat sdk . acrobat sdk documentation roadmap know issue implementation detail . readme answer frequently ask question developer faq acrobat sdk . new feature acrobat sdk release . 's new general overview acrobat sdk . overview use javascript develop enhance standard develop acrobat application use javascript workflow acrobat adobe readero . detailed description javascript apis javascript acrobat api reference develop enhance workflow acrobat adobe reader . 5\"}"
      ]
     },
     "execution_count": 1,
     "metadata": {},
     "output_type": "execute_result"
    }
   ],
   "source": [
    "import json\n",
    "with open('db.json','r') as f:\n",
    "    final_data = json.load(f)\n",
    "dict_key = 'raw_content'\n",
    "final_data[0]"
   ]
  },
  {
   "cell_type": "code",
   "execution_count": 2,
   "metadata": {},
   "outputs": [
    {
     "data": {
      "text/html": [
       "<div>\n",
       "<style scoped>\n",
       "    .dataframe tbody tr th:only-of-type {\n",
       "        vertical-align: middle;\n",
       "    }\n",
       "\n",
       "    .dataframe tbody tr th {\n",
       "        vertical-align: top;\n",
       "    }\n",
       "\n",
       "    .dataframe thead th {\n",
       "        text-align: right;\n",
       "    }\n",
       "</style>\n",
       "<table border=\"1\" class=\"dataframe\">\n",
       "  <thead>\n",
       "    <tr style=\"text-align: right;\">\n",
       "      <th></th>\n",
       "      <th>query</th>\n",
       "      <th>answer</th>\n",
       "    </tr>\n",
       "  </thead>\n",
       "  <tbody>\n",
       "    <tr>\n",
       "      <th>0</th>\n",
       "      <td>who owns adobe acrobat</td>\n",
       "      <td>AAT Adobe:PDF Adobe Batch Sequences Adobe Acro...</td>\n",
       "    </tr>\n",
       "    <tr>\n",
       "      <th>1</th>\n",
       "      <td>what is adobe acrobat</td>\n",
       "      <td>AAT Adobe:PDF Adobe Batch Sequences Adobe Acro...</td>\n",
       "    </tr>\n",
       "    <tr>\n",
       "      <th>2</th>\n",
       "      <td>what is adobe batch sequences</td>\n",
       "      <td>AAT Adobe:PDF Adobe Batch Sequences Adobe Acro...</td>\n",
       "    </tr>\n",
       "    <tr>\n",
       "      <th>3</th>\n",
       "      <td>what is the mac adobe sdk version</td>\n",
       "      <td>AAT Adobe:PDF Adobe Batch Sequences Adobe Acro...</td>\n",
       "    </tr>\n",
       "    <tr>\n",
       "      <th>4</th>\n",
       "      <td>who owns adobe</td>\n",
       "      <td>AAT Adobe:PDF Adobe Batch Sequences Adobe Acro...</td>\n",
       "    </tr>\n",
       "    <tr>\n",
       "      <th>...</th>\n",
       "      <td>...</td>\n",
       "      <td>...</td>\n",
       "    </tr>\n",
       "    <tr>\n",
       "      <th>5655</th>\n",
       "      <td>what is the new kablink teaming code</td>\n",
       "      <td>DOCUMENTATION Developer Guide Kablink Teaming ...</td>\n",
       "    </tr>\n",
       "    <tr>\n",
       "      <th>5656</th>\n",
       "      <td>what does the gfdl license allow?</td>\n",
       "      <td>DOCUMENTATION Developer Guide Kablink Teaming ...</td>\n",
       "    </tr>\n",
       "    <tr>\n",
       "      <th>5657</th>\n",
       "      <td>who does not provide support for the novell pr...</td>\n",
       "      <td>DOCUMENTATION Developer Guide Kablink Teaming ...</td>\n",
       "    </tr>\n",
       "    <tr>\n",
       "      <th>5658</th>\n",
       "      <td>which license is the kablink package created u...</td>\n",
       "      <td>DOCUMENTATION Developer Guide Kablink Teaming ...</td>\n",
       "    </tr>\n",
       "    <tr>\n",
       "      <th>5659</th>\n",
       "      <td>is novell documentation government</td>\n",
       "      <td>DOCUMENTATION Developer Guide Kablink Teaming ...</td>\n",
       "    </tr>\n",
       "  </tbody>\n",
       "</table>\n",
       "<p>5660 rows × 2 columns</p>\n",
       "</div>"
      ],
      "text/plain": [
       "                                                  query  \\\n",
       "0                                who owns adobe acrobat   \n",
       "1                                 what is adobe acrobat   \n",
       "2                         what is adobe batch sequences   \n",
       "3                     what is the mac adobe sdk version   \n",
       "4                                        who owns adobe   \n",
       "...                                                 ...   \n",
       "5655               what is the new kablink teaming code   \n",
       "5656                  what does the gfdl license allow?   \n",
       "5657  who does not provide support for the novell pr...   \n",
       "5658  which license is the kablink package created u...   \n",
       "5659                 is novell documentation government   \n",
       "\n",
       "                                                 answer  \n",
       "0     AAT Adobe:PDF Adobe Batch Sequences Adobe Acro...  \n",
       "1     AAT Adobe:PDF Adobe Batch Sequences Adobe Acro...  \n",
       "2     AAT Adobe:PDF Adobe Batch Sequences Adobe Acro...  \n",
       "3     AAT Adobe:PDF Adobe Batch Sequences Adobe Acro...  \n",
       "4     AAT Adobe:PDF Adobe Batch Sequences Adobe Acro...  \n",
       "...                                                 ...  \n",
       "5655  DOCUMENTATION Developer Guide Kablink Teaming ...  \n",
       "5656  DOCUMENTATION Developer Guide Kablink Teaming ...  \n",
       "5657  DOCUMENTATION Developer Guide Kablink Teaming ...  \n",
       "5658  DOCUMENTATION Developer Guide Kablink Teaming ...  \n",
       "5659  DOCUMENTATION Developer Guide Kablink Teaming ...  \n",
       "\n",
       "[5660 rows x 2 columns]"
      ]
     },
     "execution_count": 2,
     "metadata": {},
     "output_type": "execute_result"
    }
   ],
   "source": [
    "# # train_data.to_excel('Temp Train df clean.xlsx', index=False)\n",
    "import pandas as pd\n",
    "train_data = pd.read_excel('Temp Train df raw.xlsx', names=['query', 'answer'])\n",
    "train_data"
   ]
  },
  {
   "cell_type": "code",
   "execution_count": null,
   "metadata": {},
   "outputs": [],
   "source": [
    "from tqdm.notebook import tqdm_notebook\n",
    "import pandas as pd\n",
    "import numpy as np\n",
    "from transformers import T5Tokenizer, T5ForConditionalGeneration\n",
    "dict_key = 'raw_content'\n",
    "# tokenizer = T5Tokenizer.from_pretrained('BeIR/query-gen-msmarco-t5-large-v1')\n",
    "tokenizer = T5Tokenizer.from_pretrained('BeIR/query-gen-msmarco-t5-base-v1')\n",
    "q_model = T5ForConditionalGeneration.from_pretrained('BeIR/query-gen-msmarco-t5-large-v1').to('cuda')\n",
    "num_ques = 10\n",
    "train_data = pd.DataFrame(columns=['query', 'answer'])\n",
    "for i in tqdm_notebook(range(0,len(final_data),16), desc=f'Generating Qs'):\n",
    "  sub_paragraphs = [x[dict_key] for x in final_data[i:i+16]]\n",
    "  inputs = tokenizer(sub_paragraphs, return_tensors='pt', max_length=512, truncation=True, padding=True).to('cuda')\n",
    "  outputs = q_model.generate(**inputs, max_length=100, do_sample=True, top_p=0.95, num_return_sequences=num_ques)\n",
    "  outputs = tokenizer.batch_decode(outputs, skip_special_tokens=True)\n",
    "  temp = pd.DataFrame({'query':outputs, 'answer':np.repeat(sub_paragraphs, num_ques)})\n",
    "  train_data = pd.concat([train_data, temp], ignore_index=True)\n",
    "  # if i> 15: break\n",
    "train_data"
   ]
  },
  {
   "cell_type": "code",
   "execution_count": 3,
   "metadata": {},
   "outputs": [
    {
     "name": "stderr",
     "output_type": "stream",
     "text": [
      "c:\\Users\\RootAdmin\\.virtualenvs\\Digital_Doc-rmbKS4cs\\lib\\site-packages\\sentence_transformers\\cross_encoder\\CrossEncoder.py:11: TqdmExperimentalWarning: Using `tqdm.autonotebook.tqdm` in notebook mode. Use `tqdm.tqdm` instead to force console mode (e.g. in jupyter console)\n",
      "  from tqdm.autonotebook import tqdm, trange\n"
     ]
    },
    {
     "data": {
      "text/plain": [
       "Dataset({\n",
       "    features: ['query', 'answer'],\n",
       "    num_rows: 5660\n",
       "})"
      ]
     },
     "execution_count": 3,
     "metadata": {},
     "output_type": "execute_result"
    }
   ],
   "source": [
    "from sentence_transformers import SentenceTransformer, SentenceTransformerTrainer, SentenceTransformerTrainingArguments, SentenceTransformerModelCardData\n",
    "from sentence_transformers.losses import MultipleNegativesRankingLoss\n",
    "from sentence_transformers.training_args import BatchSamplers\n",
    "from sentence_transformers.evaluation import EmbeddingSimilarityEvaluator\n",
    "from datasets import Dataset\n",
    "# train_dataset = Dataset.from_pandas(train_data.iloc[:5000])\n",
    "# test_dataset = Dataset.from_pandas(train_data.iloc[5000:])\n",
    "train_dataset = Dataset.from_pandas(train_data)\n",
    "\n",
    "train_dataset"
   ]
  },
  {
   "cell_type": "code",
   "execution_count": 4,
   "metadata": {},
   "outputs": [
    {
     "data": {
      "application/vnd.jupyter.widget-view+json": {
       "model_id": "b96114e1079046afb4a29c1e245c2d48",
       "version_major": 2,
       "version_minor": 0
      },
      "text/plain": [
       "modules.json:   0%|          | 0.00/229 [00:00<?, ?B/s]"
      ]
     },
     "metadata": {},
     "output_type": "display_data"
    },
    {
     "name": "stderr",
     "output_type": "stream",
     "text": [
      "c:\\Users\\RootAdmin\\.virtualenvs\\Digital_Doc-rmbKS4cs\\lib\\site-packages\\huggingface_hub\\file_download.py:159: UserWarning: `huggingface_hub` cache-system uses symlinks by default to efficiently store duplicated files but your machine does not support them in C:\\Users\\RootAdmin\\.cache\\huggingface\\hub\\models--sentence-transformers--multi-qa-distilbert-dot-v1. Caching files will still work but in a degraded version that might require more space on your disk. This warning can be disabled by setting the `HF_HUB_DISABLE_SYMLINKS_WARNING` environment variable. For more details, see https://huggingface.co/docs/huggingface_hub/how-to-cache#limitations.\n",
      "To support symlinks on Windows, you either need to activate Developer Mode or to run Python as an administrator. In order to see activate developer mode, see this article: https://docs.microsoft.com/en-us/windows/apps/get-started/enable-your-device-for-development\n",
      "  warnings.warn(message)\n"
     ]
    },
    {
     "data": {
      "application/vnd.jupyter.widget-view+json": {
       "model_id": "f7e5b4e548de410c99ff193fb1ead8af",
       "version_major": 2,
       "version_minor": 0
      },
      "text/plain": [
       "config_sentence_transformers.json:   0%|          | 0.00/212 [00:00<?, ?B/s]"
      ]
     },
     "metadata": {},
     "output_type": "display_data"
    },
    {
     "data": {
      "application/vnd.jupyter.widget-view+json": {
       "model_id": "6c0840ac960f4790a939ce15fa9b096a",
       "version_major": 2,
       "version_minor": 0
      },
      "text/plain": [
       "README.md:   0%|          | 0.00/8.48k [00:00<?, ?B/s]"
      ]
     },
     "metadata": {},
     "output_type": "display_data"
    },
    {
     "data": {
      "application/vnd.jupyter.widget-view+json": {
       "model_id": "e61c4bda0c69400d9de6eb0494132a05",
       "version_major": 2,
       "version_minor": 0
      },
      "text/plain": [
       "sentence_bert_config.json:   0%|          | 0.00/53.0 [00:00<?, ?B/s]"
      ]
     },
     "metadata": {},
     "output_type": "display_data"
    },
    {
     "data": {
      "application/vnd.jupyter.widget-view+json": {
       "model_id": "b670c45a62a743059d9062ef353a5b52",
       "version_major": 2,
       "version_minor": 0
      },
      "text/plain": [
       "config.json:   0%|          | 0.00/523 [00:00<?, ?B/s]"
      ]
     },
     "metadata": {},
     "output_type": "display_data"
    },
    {
     "data": {
      "application/vnd.jupyter.widget-view+json": {
       "model_id": "fb075b79c8e54f20bbc1ea5cee666bc6",
       "version_major": 2,
       "version_minor": 0
      },
      "text/plain": [
       "model.safetensors:   0%|          | 0.00/265M [00:00<?, ?B/s]"
      ]
     },
     "metadata": {},
     "output_type": "display_data"
    },
    {
     "data": {
      "application/vnd.jupyter.widget-view+json": {
       "model_id": "73d34d18dd8a42cea3c6798e5a838afd",
       "version_major": 2,
       "version_minor": 0
      },
      "text/plain": [
       "tokenizer_config.json:   0%|          | 0.00/333 [00:00<?, ?B/s]"
      ]
     },
     "metadata": {},
     "output_type": "display_data"
    },
    {
     "data": {
      "application/vnd.jupyter.widget-view+json": {
       "model_id": "f9e50372c81c4e388d2fd509b0112be6",
       "version_major": 2,
       "version_minor": 0
      },
      "text/plain": [
       "vocab.txt:   0%|          | 0.00/232k [00:00<?, ?B/s]"
      ]
     },
     "metadata": {},
     "output_type": "display_data"
    },
    {
     "data": {
      "application/vnd.jupyter.widget-view+json": {
       "model_id": "88b238fc55e34faeb36448f5f6c04bc3",
       "version_major": 2,
       "version_minor": 0
      },
      "text/plain": [
       "tokenizer.json:   0%|          | 0.00/466k [00:00<?, ?B/s]"
      ]
     },
     "metadata": {},
     "output_type": "display_data"
    },
    {
     "data": {
      "application/vnd.jupyter.widget-view+json": {
       "model_id": "3005106786fb45069435955ae97a5a0e",
       "version_major": 2,
       "version_minor": 0
      },
      "text/plain": [
       "special_tokens_map.json:   0%|          | 0.00/112 [00:00<?, ?B/s]"
      ]
     },
     "metadata": {},
     "output_type": "display_data"
    },
    {
     "name": "stderr",
     "output_type": "stream",
     "text": [
      "c:\\Users\\RootAdmin\\.virtualenvs\\Digital_Doc-rmbKS4cs\\lib\\site-packages\\transformers\\tokenization_utils_base.py:1601: FutureWarning: `clean_up_tokenization_spaces` was not set. It will be set to `True` by default. This behavior will be depracted in transformers v4.45, and will be then set to `False` by default. For more details check this issue: https://github.com/huggingface/transformers/issues/31884\n",
      "  warnings.warn(\n"
     ]
    },
    {
     "data": {
      "application/vnd.jupyter.widget-view+json": {
       "model_id": "8dc1f065c6f14049984ecc0bd9f31b02",
       "version_major": 2,
       "version_minor": 0
      },
      "text/plain": [
       "1_Pooling/config.json:   0%|          | 0.00/190 [00:00<?, ?B/s]"
      ]
     },
     "metadata": {},
     "output_type": "display_data"
    }
   ],
   "source": [
    "model = SentenceTransformer('sentence-transformers/multi-qa-distilbert-dot-v1').to('cuda')\n",
    "loss = MultipleNegativesRankingLoss(model)\n",
    "num_epochs = 10\n",
    "output_dir=\"sementic/distilbert-finetuned-raw\"\n",
    "\n",
    "args = SentenceTransformerTrainingArguments(\n",
    "    # Required parameter:\n",
    "    output_dir=output_dir,\n",
    "    # Optional training parameters:\n",
    "    \n",
    "    num_train_epochs=num_epochs,\n",
    "    per_device_train_batch_size=32,\n",
    "    # per_device_eval_batch_size=16,\n",
    "    warmup_ratio=0.1,\n",
    "    batch_sampler=BatchSamplers.NO_DUPLICATES,  # MultipleNegativesRankingLoss benefits from no duplicate samples in a batch\n",
    "    # Optional tracking/debugging parameters:\n",
    "    report_to = 'none'\n",
    "    # run_name=\"mpnet-base-all-nli-triplet\",  # Will be used in W&B if `wandb` is installed\n",
    ")"
   ]
  },
  {
   "cell_type": "code",
   "execution_count": 5,
   "metadata": {},
   "outputs": [
    {
     "data": {
      "application/vnd.jupyter.widget-view+json": {
       "model_id": "ad887a9495c44c6dab7b550d7e7db26e",
       "version_major": 2,
       "version_minor": 0
      },
      "text/plain": [
       "  0%|          | 0/1770 [00:00<?, ?it/s]"
      ]
     },
     "metadata": {},
     "output_type": "display_data"
    },
    {
     "name": "stdout",
     "output_type": "stream",
     "text": [
      "{'loss': 0.2114, 'grad_norm': 2.5920236110687256, 'learning_rate': 3.986189579409919e-05, 'epoch': 2.56}\n"
     ]
    },
    {
     "data": {
      "application/vnd.jupyter.widget-view+json": {
       "model_id": "d18f8495765a476f9f6ef5351d47968f",
       "version_major": 2,
       "version_minor": 0
      },
      "text/plain": [
       "Computing widget examples:   0%|          | 0/1 [00:00<?, ?example/s]"
      ]
     },
     "metadata": {},
     "output_type": "display_data"
    },
    {
     "name": "stdout",
     "output_type": "stream",
     "text": [
      "{'loss': 0.0707, 'grad_norm': 0.0, 'learning_rate': 2.4168236032642812e-05, 'epoch': 5.13}\n",
      "{'loss': 0.0522, 'grad_norm': 6.952110290527344, 'learning_rate': 8.47457627118644e-06, 'epoch': 7.56}\n",
      "{'train_runtime': 393.165, 'train_samples_per_second': 143.96, 'train_steps_per_second': 4.502, 'train_loss': 0.10027155472060381, 'epoch': 8.96}\n"
     ]
    }
   ],
   "source": [
    "\n",
    "trainer = SentenceTransformerTrainer(\n",
    "    model=model,\n",
    "    args=args,\n",
    "    train_dataset=train_dataset,\n",
    "    loss=loss,\n",
    ")\n",
    "trainer.train()\n",
    "model.save_pretrained(output_dir)"
   ]
  },
  {
   "cell_type": "code",
   "execution_count": 6,
   "metadata": {},
   "outputs": [
    {
     "data": {
      "text/plain": [
       "566"
      ]
     },
     "execution_count": 6,
     "metadata": {},
     "output_type": "execute_result"
    }
   ],
   "source": [
    "import numpy as np\n",
    "import faiss\n",
    "index = faiss.IndexIDMap(faiss.IndexFlatIP(768))\n",
    "doc_emb = model.encode([x[dict_key] for x in final_data])\n",
    "index.add_with_ids(doc_emb, np.array([x['_id'] for x in final_data]))\n",
    "faiss.write_index(index, './index/distilbert_raw_sementic.index')\n",
    "index.ntotal"
   ]
  },
  {
   "cell_type": "code",
   "execution_count": 7,
   "metadata": {},
   "outputs": [
    {
     "name": "stdout",
     "output_type": "stream",
     "text": [
      "(array([[32.05131  , 25.039965 , 12.423748 , 11.8882065, 11.8882065,\n",
      "        10.562109 , 10.271328 ,  9.885939 ,  9.778834 ,  8.872636 ]],\n",
      "      dtype=float32), array([[123, 393, 357,  83,  75, 230, 158, 203, 400, 303]], dtype=int64))\n"
     ]
    },
    {
     "data": {
      "text/plain": [
       "[{'_id': 123,\n",
       "  'title': 'PDFBOX-2187-2.pdf',\n",
       "  'path': './Final PDF\\\\PDFBOX-2187-2.pdf',\n",
       "  'pages': 5,\n",
       "  'content': 'secondary emitters have been developed for nea, and could be used to produce photocathodes. the injection devices would be pumped from a diamond into a thin stratum. primary electrons lose their energy in the first fraction of a micron of travel. the diamond acts as a vacuum barrier as well as an amplifier. a diamond emits secondary electrons to a vacuum where they travel to a distant point.',\n",
       "  'raw_content': 'Electron Amplification in Diamond J. Smedley, I. Ben-Zvi, A. Burrill, X. Chang, J. Grimes, T. Rao, Z. Segalov, and Q. Wu\\' Brookhaven National Laboratory, Upton NY, USA, IBNL and Indiana University Abstract. We report on recent progress toward development of secondary emission \"amplifiers\" for photocathodes. Secondary emission gain of over 300 has been achieved in transmission mode and emission mode for a variety of diamond samples. Techniques of sample preparation, including hydrogenation to achieve negative electron affinity (NEA), have been adapted to this application. Keywords: Photoinjector, Diamond, Secondary Emitter, Cathode. PACS: 81.05.Uw DIAMOND AMPLIFIED PROTOINJECTOR This paper provides an overview of the ongoing effort to produce a diamond amplified photoinjector [1-3]. This injector would produce an electron bunch from a photocathode, accelerate this bunch to a few keV, and pass the beam into a thin diamond slab. The primary electrons lose their energyin the first fraction of a micron of travel primarily via electron-electron scattering, producing electron-hole pairs. The diamond is biased such that the electrons flow to the far side, where they are emitted from a specially-prepared, negative electron-affinity (NEA) surface into vacuum. A diagram illustrating this process is shown in figure 1. Photocathode Diamond Primary Secondary electrons electrons Primary Secondary electrons electrons Thin Metal Layer Hydrogen (10-30 nm) Termination Diamond (15 um) 3-10KV FIGURE 1. Schematic of capsule photocathode (left) and magnified view of diamond window (right). The diamond acts as a vacuum barrier as well as an amplifier, protecting the cathode from the injector vacuum. The primary electron side of the diamond must be metallized to allow the holes to be neutralized and to provide the accelerating gradient \\nfor the primary electrons. This metallization layer affects the band structure of the diamond near the surface; thus the choice of metal and deposition technique is critical [4]. The emission side of the diamond must be hydrogen (or cesium) terminated to achieve an NEA surface [5]. To address these challenges, a research program has been developed to characterize various diamonds and investigate their performance as secondary emitters. Results for three classes of diamond are presented, and electron gain is characterized in two geometries emission (electrons emitted into vacuum) and transmission (electrons conducted through bulk diamond). EXPERIMENTAL ARRANGEMENT Three types of diamonds were investigated in this study. One was a type Ila natural diamond with a 110 crystalline orientation purchased from UralAlmazInvest. This diamond was 2.6x3x.16 mm Two diamonds were CVD grown synthetic diamonds from Harris InternationalEleement Six (HI/E6). One was polycrystalline electronic grade (typical grain size ~100um) with dimensions of 5mm diameter, 0.15 mm thick. The other was a 4x4x0.16 mm\\' detector grade single crystal with a 1,0,0 orientation. Characterization These diamonds were characterized via FTIR and Ramun//ierolumineeccccr (R/PL). The FTIR spectrum of each diamond is shown in figure 2. The structure of these spectra is characteristic of the diamond lattice, with the exception of the peak at 1282cm\" in the natural diamond spectrum. The amplitude of this peak corresponds to ~30ppm of type IaA nitrogen aggregate impurity, a typical impurity in natural diamond [6]. The synthetic diamond have no observable peaks in the nitrogen region, 1100cm\" and 1300cm\", implying the nitrogen impurity levels are <l ppm, consistent with the manufacturer specifications. The R/PL spectra are consistent with these nitrogen levels, and are not shown. 20 2. Single CVD 18 3. - Poly CVD, electonic 1 - Natural Diamond a 3800 3300 2800 2300 1800 1300 800 Wavenumber (cm\") FIGURE 2. IR absorption spectra for the diamonds used. Preparation of Diamond In preparation for electron amplification studies, the diamonds were etched in a standard process [2] to remove graphite, metal, organic and inorganic contamination \\nand establish C-O bond on the diamond surface. For diamonds measured in transmission mode (TM), both broad faces of the diamond were metallized, leaving a rim near the side of the diamond to prevent surface flashovers. The specifics of the metallization vary with each diamond sample, and are detailed in measurements section. For diamonds measured in emission mode (EM), one surface was hydrogenated. This was done by baking the diamond to over 400C in 5nTorr vacuum to break existing C-O bonds on the surface. The sample was allowed to cool, and luTorr of H2 was introduced to the system. A tungsten filament about 2.5cm from the diamond was heated to 1800C to crack the molecular hydrogen. The diamond was exposed to the cracked hydrogen for 20 minutes. Measurement System The measurement apparatus consisted of a 2nTorr vacuum system housing an electron gun, and a sample holder. The DC electron gun was capable of emitting electron beams of up to 5keV. The diamond samples were held in a mount (figure 3) that provided electrical isolation of the primary and secondary electrodes. Emission Mode Transmission Mode Kapton Diamond: Red areas are metallized FIGURE3. Cross-section of diamond mount for emission (left) and transmission (right) mode. In both cases the primary and secondary electrodes are stainless steel. For transmission measurements, electrical contact was made to both metallized surfaces of the diamond. For emission measurements, a vacuum gap was introduced between the hydrogenated surface of the diamond and the secondary electrode using Kapton insulation. The mount could be cooled via LN2 lines and included a thermocouple for temperature measurement. The power supplies on both the primary and secondary electrodes were capable of measuring currents of 5nA-ImA. The primary electrode was slightly positively biased to prevent escape of secondary electrons produced by the beam from the metal layer. The secondary electrode was positively biased with respect to the primary. In TM, the field in the diamond was taken to be the potential difference (Vsee-V prim) divided by the thickness of the diamond (tdia). In EM, the field in the diamond is: neck -Vprim Fltamnnd (1) 5.7t, vac +1dia Here tvac is the thickness of the vacuum gap, and 5.7 is the dielectric constant of diamond. The measured gain is the ratio of the current measured on the secondary \\nelectrode to the current emitted by the electron gun. The primary electron beam on the diamond was estimated to be ~Imm in diameter. GAIN MEASUREMENTS Natural Diamond The type Ila natural sample was metallized on both sides with 30 nm of Al via evaporation. The electron gain was studied in TM at 293K (figure 4) and 81K (figure 5) for a variety of primary energies and primary currents. For EM measurements (figure 6) the Al was etched and replaced with gold on one face prior to hydrogenation. 300. 100nA 50nA + 20nA 10nA 600 Ip=100nA,--81K 250. 3 500 200. a m5kev keV 4keV Primary a 400. keV 150 02 keV 300 a t 100 eV Primary 200. 3 50 2keVPrimary 6 100 evPrimary 0 0 Field (MV/m) Field (MV/m) FIGURE 4&5. Left: Gain of natural diamond in TM VS. field in diamond at 293K. Line color gives primary electron energy. Symbols indicate primary current. Right: TM gain of natural diamond VS. field in diamond for primary energies of 2-5keV at 81K with 100nA primary current 40 Ip=100nA,T-300K 35 g30 e2keV É25 3kkeV key 20 m5kev o 15 3 10 5 0 0.5 1 1.5 Field (MV/m) FIGURE 6. EM gain of natural diamond vs. field in diamond for primary energies of 2-5keV at 293K with 100nA primary current. Polycrystalline CVD Diamond This sample was measured in EM at 293K (figure 7) and 81K (figure 8). The metallized surface was prepared by evaporating 20 nm of gold after hydrogenation. \\n70 40 IP=100nA, T=80K IP=100nA 35 60 =5Ke 4KeV de 30 8 50 3KeV a 2Kee 25 +4keV 40 =5keV 20 3keV 30 02 2keV I 15 5 20 3 10 : 10 a 5 a a 0 0 0.1 0.2 0.3 0.4 0.5 0 0.5 1.5 2 2.5 Field (MV/m) Field (MV/m) FIGURE 7&8. Left: EM gain of electronic grade polycrystalline CVD diamond vS. field in diamond for primary energies of 2-5keV at 293K with 100nA primary current. Right: Same, at 81K. Single Crystal CVD Diamond Two samples of this type were measured, one in transmission and one in EM. The TM sample was metallized on both surfaces by sputtering 5 nm Ti followed by 10 nm of W and measured at 293K (figure 9) and 81K (figure 10). The EM sample was metallized by sputtering 5 nm Ti followed by 5 nm of Pt and measured at 293K (figure 11) and 81K (figure 12). 500. 450 Ip-100nA 450 Epudkev 400 400. 350 ekkeV a 350 a 10 HAI primary 8 300 3keV- m100 nAp primary +4keV 0 300. 8 250 E 250 6s 200 : 200 150 150 a a 100. 3 100 121 50 50 0 0 a 0.5 1.5 0 0.5 1 1.5 Field( (MV/m) Field (MV/m) FIGURE 9&10. Left: TM gain of single crystal CVD diamond vS. field in diamond for 4keV primary energy at 293K with 100nA and 10uA primary current. Right: TM gain of single crystal CVD diamond VS. field in diamond for primary energies of 2-4keV at 81K with 100nA primary current. 350 200 Ip=100nA Ip=100nA 300 180 160 : 250 +4keV I 140. +4keV 200 3kee 1 120. 43keV- ekkeV 1 e2kev 1 1.5keV 100 150 I 80 e 100 e 60 50 40 20 0 0 0.2 0.4 0.6 0.8 0 0.5 1.5 Field (MV/m) Field (MV/m) FIGURE 11&12. Left: EM gain of single crystal CVD diamond vs. field in diamond for primary energies of 1.5-4keV at 293K with 100nA primary current. Right: Same, at 81K. \\n',\n",
       "  'clean_content': \"electron amplification diamond j. smedley , i. ben - zvi , a. burrill , x. chang , j. grimes , t. rao , z. segalov , q. wu ' brookhaven national laboratory , upton ny , usa , ibnl indiana university abstract . report recent progress toward development secondary emission ` ` amplifier '' photocathode . secondary emission gain 300 achieve transmission mode emission mode variety diamond sample . technique sample preparation , include hydrogenation achieve negative electron affinity ( nea ) , adapt application . keyword : photoinjector , diamond , secondary emitter , cathode . pacs : 81.05.uw diamond amplify protoinjector paper provide overview ongoing effort produce diamond amplify photoinjector [ 1 - 3 ] . injector would produce electron bunch photocathode , accelerate bunch kev , pass beam thin diamond slab . primary electron lose energyin first fraction micron travel primarily via electron - electron scattering , produce electron - hole pair . diamond biased electron flow far side , emit specially - prepare , negative electron - affinity ( nea ) surface vacuum . diagram illustrating process show figure 1 . photocathode diamond primary secondary electron electron primary secondary electron electron thin metal layer hydrogen ( 10 - 30 nm ) termination diamond ( 15 um ) 3 - 10kv figure 1 . schematic capsule photocathode ( left ) magnify view diamond window ( right ) . diamond act vacuum barrier well amplifier , protect cathode injector vacuum . primary electron side diamond must metallize allow hole neutralized provide accelerate gradient primary electron . metallization layer affect band structure diamond near surface ; thus choice metal deposition technique critical [ 4 ] . emission side diamond must hydrogen ( cesium ) terminate achieve nea surface [ 5 ] . address challenge , research program develop characterize various diamond investigate performance secondary emitter . result three class diamond present , electron gain characterize two geometry emission ( electron emit vacuum ) transmission ( electron conduct bulk diamond ) . experimental arrangement three type diamond investigate study . one type ila natural diamond 110 crystalline orientation purchase uralalmazinvest . diamond 2.6x3x.16 mm two diamond cvd grow synthetic diamond harris internationaleleement six ( hi / e6 ) . one polycrystalline electronic grade ( typical grain size ~100um ) dimension 5 mm diameter , 0.15 mm thick . 4x4x0.16 mm ' detector grade single crystal 1,0,0 orientation . characterization diamond characterize via ftir ramun//ierolumineeccccr ( r / pl ) . ftir spectrum diamond show figure 2 . structure spectra characteristic diamond lattice , exception peak 1282 cm '' natural diamond spectrum . amplitude peak correspond ~30ppm type iaa nitrogen aggregate impurity , typical impurity natural diamond [ 6 ] . synthetic diamond observable peak nitrogen region , 1100 cm '' 1300 cm '' , imply nitrogen impurity level < l ppm , consistent manufacturer specification . r / pl spectra consistent nitrogen level , show . 20 2 . single cvd 18 3 . - poly cvd , electonic 1 - natural diamond 3800 3300 2800 2300 1800 1300 800 wavenumber ( cm '' ) figure 2 . ir absorption spectra diamond use . preparation diamond preparation electron amplification study , diamond etch standard process [ 2 ] remove graphite , metal , organic inorganic contamination establish c - o bond diamond surface . diamond measure transmission mode ( tm ) , broad face diamond metallize , leave rim near side diamond prevent surface flashover . specific metallization vary diamond sample , detailed measurement section . diamond measure emission mode ( em ) , one surface hydrogenate . do bake diamond 400c 5ntorr vacuum break exist c - o bond surface . sample allow cool , lutorr h2 introduce system . tungsten filament 2.5 cm diamond heat 1800c crack molecular hydrogen . diamond expose crack hydrogen 20 minute . measurement system measurement apparatus consist 2ntorr vacuum system housing electron gun , sample holder . dc electron gun capable emitting electron beam 5kev . diamond sample hold mount ( figure 3 ) provide electrical isolation primary secondary electrode . emission mode transmission mode kapton diamond : red area metallize figure3 . cross - section diamond mount emission ( leave ) transmission ( right ) mode . case primary secondary electrode stainless steel . transmission measurement , electrical contact make metallized surface diamond . emission measurement , vacuum gap introduce hydrogenate surface diamond secondary electrode use kapton insulation . mount could cool via ln2 line include thermocouple temperature measurement . power supply primary secondary electrode capable measuring current 5na - ima . primary electrode slightly positively bias prevent escape secondary electron produce beam metal layer . secondary electrode positively biased respect primary . tm , field diamond take potential difference ( vsee - v prim ) divide thickness diamond ( tdia ) . em , field diamond : neck -vprim fltamnnd ( 1 ) 5.7 t , vac +1dia tvac thickness vacuum gap , 5.7 dielectric constant diamond . measure gain ratio current measure secondary electrode current emit electron gun . primary electron beam diamond estimate ~imm diameter . gain measurement natural diamond type ila natural sample metallize side 30 nm al via evaporation . electron gain study tm 293k ( figure 4 ) 81k ( figure 5 ) variety primary energy primary current . em measurement ( figure 6 ) al etch replace gold one face prior hydrogenation . 300 . 100na 50na + 20na 10na 600 ip=100na , -- 81k 250 . 3 500 200 . m5kev kev 4kev primary 400 . kev 150 02 kev 300 100 ev primary 200 . 3 50 2kevprimary 6 100 evprimary 0 0 field ( mv / m ) field ( mv / m ) figure 4 & 5 . leave : gain natural diamond tm vs. field diamond 293k . line color give primary electron energy . symbol indicate primary current . right : tm gain natural diamond vs. field diamond primary energy 2 - 5kev 81k 100na primary current 40 ip=100na , t-300k 35 g30 e2kev é25 3kkev key 20 m5kev 15 3 10 5 0 0.5 1 1.5 field ( mv / m ) figure 6 . em gain natural diamond vs. field diamond primary energy 2 - 5kev 293k 100na primary current . polycrystalline cvd diamond sample measure em 293k ( figure 7 ) 81k ( figure 8 ) . metallized surface prepare evaporate 20 nm gold hydrogenation . 70 40 ip=100na , t=80k ip=100na 35 60 = 5ke 4kev de 30 8 50 3kev 2kee 25 +4kev 40 = 5kev 20 3kev 30 02 2kev 15 5 20 3 10 : 10 5 0 0 0.1 0.2 0.3 0.4 0.5 0 0.5 1.5 2 2.5 field ( mv / m ) field ( mv / m ) figure 7 & 8 . leave : em gain electronic grade polycrystalline cvd diamond vs. field diamond primary energy 2 - 5kev 293k 100na primary current . right : , 81k . single crystal cvd diamond two sample type measure , one transmission one em . tm sample metallize surface sputter 5 nm ti follow 10 nm w measure 293k ( figure 9 ) 81k ( figure 10 ) . em sample metallize sputter 5 nm ti follow 5 nm pt measure 293k ( figure 11 ) 81k ( figure 12 ) . 500 . 450 ip-100na 450 epudkev 400 400 . 350 ekkev 350 10 hai primary 8 300 3kev- m100 nap primary +4kev 0 300 . 8 250 e 250 6s 200 : 200 150 150 100 . 3 100 121 50 50 0 0 0.5 1.5 0 0.5 1 1.5 field ( ( mv / m ) field ( mv / m ) figure 9 & 10 . leave : tm gain single crystal cvd diamond vs. field diamond 4kev primary energy 293k 100na 10ua primary current . right : tm gain single crystal cvd diamond vs. field diamond primary energy 2 - 4kev 81k 100na primary current . 350 200 ip=100na ip=100na 300 180 160 : 250 +4kev 140 . +4kev 200 3kee 1 120 . 43kev- ekkev 1 e2kev 1 1.5kev 100 150 80 e 100 e 60 50 40 20 0 0 0.2 0.4 0.6 0.8 0 0.5 1.5 field ( mv / m ) field ( mv / m ) figure 11 & 12 . leave : em gain single crystal cvd diamond vs. field diamond primary energy 1.5 - 4kev 293k 100na primary current . right : , 81k .\"},\n",
       " {'_id': 393,\n",
       "  'title': 'PDFBOX-3875-5.pdf',\n",
       "  'path': './Final PDF\\\\PDFBOX-3875-5.pdf',\n",
       "  'pages': 5,\n",
       "  'content': 'jordan brown: the diamond industry is using international conflict diamonds. diamonds can\\'t be found from conflicts like the Kimberley process. he says the diamond trade could be stemmed from \"aspects. brown: the diamond trade is an international problem. (see map) of developing a diamond certification system. the report will focus on addressing the key problems in diamond trade. rhode island and sénégal are among countries to be targeted.',\n",
       "  'raw_content': \"United States General Accounting Office GAO Report to Congressional Requesters June 2002 INTERNATIONAL TRADE Critical Issues Remain in Deterring Conflict Diamond Trade G A C Accountability * Integrity * Reliability GAO-02-678 \\nUnited States General Accounting Office June 2002 INTERNATIONAL TRADE GAO Critical Issues Remain in Conflict Rccurtaittnngggnnntnen Deterring Diamond Trade Highlights Highlights of GAO-02-678, a report to Congressional Requesters. Why GAO Did This Study What GAO Found Conflict diamonds are used by The nature of diamonds and the international diamond industry's rebel movements to finance their operations create opportunities for illicit trade, including trade in conflict military activities, including diamonds. Diamonds are a high-value commodity easily concealed and attempts to undermine or transported, are mined in remote areas worldwide, and are virtually overthrow legitimate untraceable to their original sources. These factors allow diamonds to be governments. These conflicts used in lieu of currency in arms deals, money laundering, and other have created severe crime. Further, there is limited information publicly available about humanitarian crises in a number diamond industry operations. of African countries (see map below). An international effort The United States cannot detect diamonds that might come from conflict called the Kimberley Process, in sources because the current diamond import control system does not which the United States require certification of the country of extraction. At present, there is also participates, aims to develop a no international system to certify the source of extraction. While the diamond certification scheme to United States bans diamonds coming from Angola, Sierra Leone, and deter the flow of conflict Liberia that are subject to U.N. and U.S. sanctions, in the absence of an diamonds. GAO was asked to international certification system, this does not prevent conflict assess the challenges associated diamonds shipped to an intermediary country from being mixed into with deterring trade in conflict U.S.-destined shipments. diamonds. GAO's assessment of the Kimberley Process's proposal for an international diamond certification scheme found it did not contain the controls necessary to ensure that it will be effective in stemming the flow of conflict diamonds. We evaluated the proposal using established criteria for assessing accountability and found that its heavy reliance on What GAO Recommends voluntary participation and lack of attention to potential high-risk areas GAO recommends that the suggest that participants may face major challenges in implementing an Secretary of State, in consultation effective scheme to deter trade in conflict diamonds. with relevant government agencies, work with Kimberley Process participants toward incorporating better controls in the certification scheme, including a reasonable control environment, risk assessment, PKI internal controls, information Liberia Sierra sharing, and monitoring. Leone 3 Democratic Republic of the Congo State commented that GAO Angola focused on accountability measures rather than on the political achievements gained. State recognized the need for improvements, but did not see these as possible before launching Primary countries associated with conflict diamonds. the certification scheme. This is a test for developing Highlights for a GAO report. The full report, including GAO's objectives, scope, methodology, and analysis is available at www.gno.govieg-biiiitetrpP7GA0-00.Tr. For additional information about the report, contact Loren Yager at 202-512-4128. To provide comments on this test] Highlights, contact Keith Fultz (202-512-3200) or e-mail Hggiiightrfest@gno.go.. \\nContents Letter 1 Results in Brief 2 Background 4 Nature of Diamonds and Nontransparent Industry Operations Create Opportunities for Illicit Trade 7 United States Cannot Detect Conflict Diamonds with Present Import Controls 13 Kimberley Certification Scheme Lacks Key Aspects of Accountability 15 Conclusion 22 Recommendation for Executive Action 22 Agency Comments 22 Appendixes Appendix I: Scope and Methodology 25 Appendix II: Situation in Countries Primarily Associated with Conflict Diamonds 28 Conflict and Diamonds in Angola 28 Conflict and Diamonds in the Democratic Republic of the Congo 32 Conflict and Diamonds in Liberia 35 Conflict and Diamonds in Sierra Leone 38 Appendix III: Structure and Economic Importance of the International Diamond Industry 43 Diamond Mining 43 Rough Diamond Trading 45 Rough Diamond Cutting and Polishing 48 Economic Importance of the Diamond Industry 48 Appendix IV: Historical Data on African Diamond Exports 51 Appendix V: Comments from the Department of State 54 Appendix VI: Comments from the Department of the Treasury 57 Appendix VII: GAO Contacts and Staff Acknowledgments 59 GAO Contacts 59 Acknowledgments 59 Page i GAO-02-678 Conflict Diamonds \\nContents Tables Table 1: Differences between Mining and Estimated Rough Diamond Exports in Selected African Countries, 2000 9 Table 2: Estimated Rough Diamond Exports for Selected Nonmining Countries, 1996, 1998, and 2000 10 Table 3: Rough Diamond Export and Import Values for Selected Countries, 2000 11 Table 4: Rough Diamond Mining, 2000 45 Table 5: Estimates of the Economic Importance ofDiamond Mining for Selected Countries, 2000 49 Table 6: Value of Estimated Rough Diamond Exports from Africa, 1990-2000 52 Figures Figure 1: Map of Angola 30 Figure 2: Map of the DRC 34 Figure 3: Map of Liberia 37 Figure 4: Map of Sierra Leone 41 Figure 5: Countries That Mine Rough Diamonds, 2000 44 Figure 6: Countries That Export Rough Diamonds, 2000 47 Abbreviations DRC Democratic Republic of the Congo DTC Diamond Trading Company RUF Revolutionary United Front U.N. United Nations UNITA The National Union for the Total Independence of Angola Page ii GAO-02-678 Conflict Diamonds \\nGAO Accountability Integrity * Reliability United States General Accounting Office Washington, D.C. 20548 June 14, 2002 The Honorable Frank R. Wolf Chairman Subcommittee on Commerce, Justice, State & Judiciary Committee on Appropriations House of Representatives The Honorable Judd Gregg Ranking Minority Member Subcommittee on Commerce, Justice, State & Judiciary Committee on Appropriations United States Senate The Honorable Cynthia A. McKinney Ranking Minority Member Subcommittee on International Operations and Human Rights Committee on International Relations House of Representatives The Honorable Tony P. Hall Ranking Minority Member Subcommittee on Technology and the House Committee on Rules House of Representatives The United Nations (U.N.) General Assembly defines conflict diamonds as rough diamonds used by rebel movements to finance their military activities, including attempts to undermine or overthrow legitimate governments. These conflicts have created severe humanitarian crises in countries such as Sierra Leone, Angola, and Democratic Republic of the Congo (DRC). The United States and much of the international community are trying to sever the link between conflict and diamonds while ensuring that no harm is done to the legitimate diamond industry, which is economically important in many countries. The principal international effort to address these objectives, known as the Kimberley Process, aims to develop and implement an international diamond certification scheme that will deter conflict diamonds from entering the legitimate market. The Kimberley participants, including government, diamond industry, and 'U.N. General Assembly Resolution 55/56 (Jan. 29, 2001). Page 1 GAO-02-678 Conflict Diamonds \\n\",\n",
       "  'clean_content': \"united states general accounting office gao report congressional requester june 2002 international trade critical issue remain deter conflict diamond trade g c accountability * integrity * reliability gao-02 - 678 united states general accounting office june 2002 international trade gao critical issue remain conflict rccurtaittnngggnnntnen deter diamond trade highlight highlight gao-02 - 678 , report congressional requester . gao study gao find conflict diamond use nature diamond international diamond industry 's rebel movement finance operation create opportunity illicit trade , include trade conflict military activity , include diamond . diamond high - value commodity easily conceal attempt undermine transport , mine remote area worldwide , virtually overthrow legitimate untraceable original source . factor allow diamond government . conflict use lieu currency arm deal , money laundering , create severe crime . , limited information publicly available humanitarian crisis number diamond industry operation . african country ( see map ) . international effort united states detect diamond might come conflict call kimberley process , source current diamond import control system united states require certification country extraction . present , also participate , aim develop international system certify source extraction . diamond certification scheme united states ban diamond come angola , sierra leone , deter flow conflict liberia subject u.n . u.s . sanction , absence diamond . gao ask international certification system , prevent conflict assess challenge associate diamond ship intermediary country mix deterring trade conflict u.s.-destine shipment . diamond . gao 's assessment kimberley process 's proposal international diamond certification scheme find contain control necessary ensure effective stem flow conflict diamond . evaluate proposal use establish criterion assess accountability find heavy reliance gao recommend voluntary participation lack attention potential high - risk area gao recommend suggest participant may face major challenge implement secretary state , consultation effective scheme deter trade conflict diamond . relevant government agency , work kimberley process participant toward incorporate well control certification scheme , include reasonable control environment , risk assessment , pki internal control , information liberia sierra share , monitoring . leone 3 democratic republic congo state comment gao angola focus accountability measure rather political achievement gain . state recognize need improvement , see possible launch primary country associate conflict diamond . certification scheme . test develop highlight gao report . full report , include gao 's objective , scope , methodology , analysis available www.gno.govieg-biiiitetrpp7ga0-00.tr . additional information report , contact loren yager 202 - 512 - 4128 . provide comment test ] highlight , contact keith fultz ( 202 - 512 - 3200 ) e - mail hggiiightrfest @ gno.go .. content letter 1 result brief 2 background 4 nature diamond nontransparent industry operation create opportunity illicit trade 7 united states detect conflict diamond present import control 13 kimberley certification scheme lack key aspect accountability 15 conclusion 22 recommendation executive action 22 agency comment 22 appendix appendix : scope methodology 25 appendix ii : situation country primarily associate conflict diamond 28 conflict diamond angola 28 conflict diamond democratic republic congo 32 conflict diamond liberia 35 conflict diamond sierra leone 38 appendix iii : structure economic importance international diamond industry 43 diamond mining 43 rough diamond trading 45 rough diamond cutting polish 48 economic importance diamond industry 48 appendix iv : historical datum african diamond export 51 appendix v : comment department state 54 appendix vi : comment department treasury 57 appendix vii : gao contact staff acknowledgment 59 gao contact 59 acknowledgment 59 page gao-02 - 678 conflict diamond content table table 1 : difference mine estimate rough diamond export select african country , 2000 9 table 2 : estimate rough diamond export select nonmine country , 1996 , 1998 , 2000 10 table 3 : rough diamond export import value select country , 2000 11 table 4 : rough diamond mining , 2000 45 table 5 : estimate economic importance ofdiamond mining select country , 2000 49 table 6 : value estimate rough diamond export africa , 1990 - 2000 52 figure figure 1 : map angola 30 figure 2 : map drc 34 figure 3 : map liberia 37 figure 4 : map sierra leone 41 figure 5 : country mine rough diamond , 2000 44 figure 6 : country export rough diamond , 2000 47 abbreviation drc democratic republic congo dtc diamond trading company ruf revolutionary united front u.n . united nations unita national union total independence angola page ii gao-02 - 678 conflict diamond gao accountability integrity * reliability united states general accounting office washington , d.c . 20548 june 14 , 2002 honorable frank r. wolf chairman subcommittee commerce , justice , state & judiciary committee appropriation house representative honorable judd gregg ranking minority member subcommittee commerce , justice , state & judiciary committee appropriations united states senate honorable cynthia a. mckinney ranking minority member subcommittee international operation human rights committee international relations house representative honorable tony p. hall rank minority member subcommittee technology house committee rule house representatives united nations ( u.n . ) general assembly define conflict diamond rough diamond use rebel movement finance military activity , include attempt undermine overthrow legitimate government . conflict create severe humanitarian crisis country sierra leone , angola , democratic republic congo ( drc ) . united states much international community try sever link conflict diamond ensure harm do legitimate diamond industry , economically important many country . principal international effort address objective , know kimberley process , aim develop implement international diamond certification scheme deter conflict diamond enter legitimate market . kimberley participant , include government , diamond industry , ' u.n . general assembly resolution 55/56 ( jan . 29 , 2001 ) . page 1 gao-02 - 678 conflict diamond\"}]"
      ]
     },
     "execution_count": 7,
     "metadata": {},
     "output_type": "execute_result"
    }
   ],
   "source": [
    "query = \"how the characterization of diamond is done\"\n",
    "query_emb = model.encode([query])\n",
    "\n",
    "top_k_arr = index.search(query_emb, 10)\n",
    "print(top_k_arr)\n",
    "a, b = top_k_arr[0][0], top_k_arr[1][0]\n",
    "results = [final_data[b[i]-1] for i in range(2) if abs(a[0] - a[i]) < 10]\n",
    "results"
   ]
  }
 ],
 "metadata": {
  "kernelspec": {
   "display_name": "Digital_Doc-rmbKS4cs",
   "language": "python",
   "name": "python3"
  },
  "language_info": {
   "codemirror_mode": {
    "name": "ipython",
    "version": 3
   },
   "file_extension": ".py",
   "mimetype": "text/x-python",
   "name": "python",
   "nbconvert_exporter": "python",
   "pygments_lexer": "ipython3",
   "version": "3.10.8"
  }
 },
 "nbformat": 4,
 "nbformat_minor": 2
}
