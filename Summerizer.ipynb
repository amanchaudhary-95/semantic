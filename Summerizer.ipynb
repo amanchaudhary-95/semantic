{
 "cells": [
  {
   "cell_type": "code",
   "execution_count": 1,
   "metadata": {},
   "outputs": [],
   "source": [
    "from transformers import AutoTokenizer, AutoModelWithLMHead"
   ]
  },
  {
   "cell_type": "code",
   "execution_count": 8,
   "metadata": {},
   "outputs": [
    {
     "name": "stderr",
     "output_type": "stream",
     "text": [
      "c:\\Users\\RootAdmin\\.virtualenvs\\Digital_Doc-rmbKS4cs\\lib\\site-packages\\transformers\\tokenization_utils_base.py:1601: FutureWarning: `clean_up_tokenization_spaces` was not set. It will be set to `True` by default. This behavior will be depracted in transformers v4.45, and will be then set to `False` by default. For more details check this issue: https://github.com/huggingface/transformers/issues/31884\n",
      "  warnings.warn(\n",
      "c:\\Users\\RootAdmin\\.virtualenvs\\Digital_Doc-rmbKS4cs\\lib\\site-packages\\transformers\\models\\auto\\modeling_auto.py:1748: FutureWarning: The class `AutoModelWithLMHead` is deprecated and will be removed in a future version. Please use `AutoModelForCausalLM` for causal language models, `AutoModelForMaskedLM` for masked language models and `AutoModelForSeq2SeqLM` for encoder-decoder models.\n",
      "  warnings.warn(\n"
     ]
    }
   ],
   "source": [
    "tokenizer=AutoTokenizer.from_pretrained('T5-base')\n",
    "model=AutoModelWithLMHead.from_pretrained('T5-base', return_dict=True).to('cuda')"
   ]
  },
  {
   "cell_type": "code",
   "execution_count": 6,
   "metadata": {},
   "outputs": [],
   "source": [
    "import json\n",
    "with open('db.json','r') as f:\n",
    "    final_data = json.load(f)"
   ]
  },
  {
   "cell_type": "code",
   "execution_count": 7,
   "metadata": {},
   "outputs": [
    {
     "data": {
      "text/plain": [
       "{'_id': 1,\n",
       " 'title': 'PDFBOX-1024-2.pdf',\n",
       " 'path': './Final PDF\\\\PDFBOX-1024-2.pdf',\n",
       " 'pages': 5,\n",
       " 'content': \"aat adobe adobe : pdf batch sequences adobe acrobat sdk version 8.0 02 2006 adobe system incorporate . right reserve . adobe acrobate sdk 8.0 batch sequence microsoft windows mac os ° edition 1.0 , october 2006 ifthis guide distribute software include end user agreement , guide , well software describe , furnish license may use copy accordance term license . except permit license , part ofthis guide may reproduce , store retrieval system , transmit , form mean , electronic , mechanical , recording , otherwise , without prior write permission adobe system incorporate . please note content guide protect content guide furnish informational use , subject change without notice , construe commitment adobe system incorporate . adobe system incorporate assume responsibility liability error please remember exist artwork image may want include project mayl protect copyright law . unauthorized incorporation material new work could violation right copyright owner . please sure reference company name company logo sample material demonstration purpose intend refer adobe , adobe logo , acrobat , reader either register trademark trademark adobe system incorporate united copyright law even ifi distribute software include end user license agreement . inaccuracy may appear informational content contain guide . obtain permission require copyright owner . actual organization . states and/or country . apple mac os trademarks apple computer , inc . , register united states country . javascript trademark register trademark sun microsystem , inc . united states country . microsoft windows either register trademark trademark microsoft corporation united states and/or country . notice u.s . government end user . software documentation ` ` commercial item , '' term define 48 c.f.r.52.101 , consist ` ` commercial computer software '' ` ` commercial computer software documentation , '' term use 48 c.f.r . $ 12.212 48 c.f.r . $ 227.7202 , applicable . consistent 48 c.f.r . $ 12.212 48 c.f.r . 59227.7202 - 1 227.7202 - 4 , applicable , commercial computer software commercial computer software documentation license u.s . government end user ( ) commercial item ( b ) right grant end user pursuant term condition herein . unpublished - right reserve copyright law ofthe united states . adobe system incorporate , 345 park avenue , san jose , can 95110 - 2704 , usa . u.s . government end user , adobe agree comply applicable equal opportunity law include , appropriate , provision executive order 11246 , amend , section 402 vietnam era veterans readjustment assistance act 1974 ( 38 usc 4212 ) , section 503 rehabilitation act 1973 , amend , regulation 41 cfr part 60 - 1 60 - 60 , 60 - 250 , 60 - 741 . affirmative action clause regulation contain precede sentence shall incorporate reference . trademark property respective owner . adobe system incorporate , 345 park avenue , san jose , california 95110 , usa . content list example preface 4 5 5 5 5 6 6 8 8 8 9 9 10 11 11 12 12 12 13 15 15 16 18 19 19 20 22 22 22 23 23 24 24 25 25 26 26 27 28 28 31 's guide ? read guide ? relate documentation 1 use batch sequence create run batch sequence batch processing object . abort script . use object . global variable . begin end batch job debugging testing tip 2 batch sequence example instal sample batch sequence count pdf file work bookmark gather bookmark array . list bookmarks count bookmark gather bookmark document . copy bookmark array . insert bookmarke page work icon import name icon insert navigation icon . extract page folder populate form database save .. prepare use formsbatch.pdf fill formsbatch.pdf running populate save work security change security security .. gather digital signature information sign document insert comment form field insert stamp insert barcode spell check document . summarize comment select file write comment tab - delimit file 3 list example example 1.1 specify number file process . example 2.1 count pdf file example 2.2 gather bookmark array example 2.3 list bookmark example 2.4 count bookmark : example 2.5 gather bookmark document example 2.6 copy bookmark array . example 2.7 insert page bookmark example 2.8 import name icon example 2.9 insert navigation icon .. example 2.10 insert navigation icon .. example 2.11 populate save form example 2.12 sign document . example 2.13 insert stamp . example 2.14 insert barcode . example 2.15 spell check document 9 12 13 14 15 15 17 18 19 20 22 24 25 26 27 28 29 31 example 2.16 summarize comment select document example 2.17 write comment tab delimited file . al 1r 4 preface document show use javascript ' I m batch process adobe acrobato 5.0 acrobat professional 6.0 later , offer sample solution common task user encounter . 's guide ? guide discuss fundamental write al batch sequence use execute javascript batch command . event object , use global variable , debug testing tip discuss . also chapter batch sequence example . read guide ? guide would interest anyone need automate repetitive task . require knowledge acrobat extension javascript , document javascript acrobat apii reference . relate documentation document refer follow source additional information javascript relate technology . acrobat documentation available acrobat family developer center , htt : //www.adobe.cobbe.comggo / acroaat . developer . guide documentation acrobat sdk . know issue implementation detail . answer frequently ask question new feature acrobat sdk release . general overview acrobat sdk . use javascript develop enhance standard workflow acrobat adobe readero . detailed description javascript apis develop enhance workflow acrobat information see readme developer faq 's new overview acrobat sdk documentation roadmap acrobat sdk . develop acrobat application use javascript javascript acrobat api reference adobe reader . 5\"}"
      ]
     },
     "execution_count": 7,
     "metadata": {},
     "output_type": "execute_result"
    }
   ],
   "source": [
    "final_data[0]"
   ]
  },
  {
   "cell_type": "code",
   "execution_count": 9,
   "metadata": {},
   "outputs": [],
   "source": [
    "sequence = (\"Data science is an interdisciplinary field[10] focused on extracting knowledge from typically large data sets and applying the knowledge and insights from that data to solve problems in a wide range of application domains.[11] The field encompasses preparing data for analysis, formulating data science problems, analyzing data, developing data-driven solutions, and presenting findings to inform high-level decisions in a broad range of application domains. As such, it incorporates skills from computer science, statistics, information science, mathematics, data visualization, information visualization, data sonification, data integration, graphic design, complex systems, communication and business.[12][13] Statistician Nathan Yau, drawing on Ben Fry, also links data science to human–computer interaction: users should be able to intuitively control and explore data.[14][15] In 2015, the American Statistical Association identified database management, statistics and machine learning, and distributed and parallel systems as the three emerging foundational professional communities.[16]\")\n",
    "inputs=tokenizer.encode(\"sumarize: \" +sequence, return_tensors='pt', max_length=512, truncation=True).to('cuda')\n"
   ]
  },
  {
   "cell_type": "code",
   "execution_count": 10,
   "metadata": {},
   "outputs": [
    {
     "data": {
      "text/plain": [
       "'data science is an interdisciplinary field focused on extracting knowledge from typically large data sets. it incorporates skills from computer science, statistics, information science, mathematics, data visualization, information visualization, data sonification, graphic design, complex systems, communication and business. the field encompasses preparing data for analysis, formulating data science problems, analyzing data, developing data-driven solutions.'"
      ]
     },
     "execution_count": 10,
     "metadata": {},
     "output_type": "execute_result"
    }
   ],
   "source": [
    "output = model.generate(inputs, min_length=80, max_length=200)\n",
    "summary=tokenizer.decode(output[0], skip_special_tokens=True)\n",
    "summary"
   ]
  }
 ],
 "metadata": {
  "kernelspec": {
   "display_name": "Digital_Doc-rmbKS4cs",
   "language": "python",
   "name": "python3"
  },
  "language_info": {
   "codemirror_mode": {
    "name": "ipython",
    "version": 3
   },
   "file_extension": ".py",
   "mimetype": "text/x-python",
   "name": "python",
   "nbconvert_exporter": "python",
   "pygments_lexer": "ipython3",
   "version": "3.10.8"
  }
 },
 "nbformat": 4,
 "nbformat_minor": 2
}
